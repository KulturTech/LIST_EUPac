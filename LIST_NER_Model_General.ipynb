{
  "cells": [
    {
      "cell_type": "markdown",
      "metadata": {
        "id": "view-in-github",
        "colab_type": "text"
      },
      "source": [
        "<a href=\"https://colab.research.google.com/github/KulturTech/LIST_EUPac/blob/main/LIST_NER_Model_General.ipynb\" target=\"_parent\"><img src=\"https://colab.research.google.com/assets/colab-badge.svg\" alt=\"Open In Colab\"/></a>"
      ]
    },
    {
      "metadata": {
        "id": "S_QOqUMjH7uo"
      },
      "cell_type": "markdown",
      "source": [
        "[![Open In Colab](https://colab.research.google.com/assets/colab-badge.svg)](https://colab.research.google.com/github/CCS-ZCU/EuPaC_shared/blob/master/LIST_getting-started.ipynb)\n",
        "\n",
        "This Jupyter notebook has been prepared for the EuPaC Hackathon and provides an easy way to start working with the LIST dataset — no need to clone the entire repository or download additional data. It is fully compatible with cloud platforms like Google Colaboratory (click the badge above) and runs without requiring any specialized library installations.\n",
        "\n",
        "As such, it is intended as a starting point for EuPaC participants, including those with minimal coding experience."
      ]
    },
    {
      "cell_type": "code",
      "metadata": {
        "execution_time": 1,
        "id": "6xiYIACFchIf",
        "ExecuteTime": {
          "end_time": "2025-04-29T11:52:16.464128Z",
          "start_time": "2025-04-29T11:52:16.295797Z"
        }
      },
      "source": [
        "import os\n",
        "import requests\n",
        "import geopandas as gpd\n",
        "import numpy as np"
      ],
      "outputs": [],
      "execution_count": 1
    },
    {
      "cell_type": "code",
      "metadata": {
        "colab": {
          "base_uri": "https://localhost:8080/"
        },
        "execution_time": 2,
        "id": "e44Vzsu-iXGE",
        "outputId": "e62f150a-e0e2-4e80-f628-e3074697c3f2",
        "ExecuteTime": {
          "end_time": "2025-04-23T10:38:45.331026Z",
          "start_time": "2025-04-23T10:38:27.036125Z"
        }
      },
      "source": [
        "# (1) download the dataset file in the parquet file format directly from zenodo:\n",
        "# (feel free to change the download location following the --output parameter)\n",
        "# Create directory for data and subdirectories if not already existent\n",
        "os.makedirs(\"data/large_data\", exist_ok=True)\n",
        "\n",
        "!curl https://zenodo.org/records/10473706/files/LIST_v1-2.parquet --output data/large_data/LIST_v1-2.parquet"
      ],
      "outputs": [
        {
          "output_type": "stream",
          "name": "stdout",
          "text": [
            "  % Total    % Received % Xferd  Average Speed   Time    Time     Time  Current\n",
            "                                 Dload  Upload   Total   Spent    Left  Speed\n",
            "100  104M  100  104M    0     0  1872k      0  0:00:57  0:00:57 --:--:-- 10.3M\n"
          ]
        }
      ],
      "execution_count": 2
    },
    {
      "metadata": {
        "ExecuteTime": {
          "end_time": "2025-04-23T10:38:51.087405Z",
          "start_time": "2025-04-23T10:38:49.029456Z"
        },
        "id": "TmueIuCNH7u3"
      },
      "cell_type": "code",
      "source": [
        "LIST = gpd.read_parquet(\"data/large_data/LIST_v1-2.parquet\")"
      ],
      "outputs": [],
      "execution_count": 3
    },
    {
      "cell_type": "code",
      "metadata": {
        "colab": {
          "base_uri": "https://localhost:8080/"
        },
        "execution_time": 4,
        "id": "67cYPai7iFPZ",
        "outputId": "47d4bbaf-59f1-462a-cb2a-e4748e52ca34",
        "ExecuteTime": {
          "end_time": "2025-04-23T10:39:20.457688Z",
          "start_time": "2025-04-23T10:39:20.453989Z"
        }
      },
      "source": [
        "LIST.shape"
      ],
      "outputs": [
        {
          "output_type": "execute_result",
          "data": {
            "text/plain": [
              "(525870, 65)"
            ]
          },
          "metadata": {},
          "execution_count": 4
        }
      ],
      "execution_count": 4
    },
    {
      "metadata": {
        "execution_time": 3,
        "id": "yfscJ7ilhRNd",
        "ExecuteTime": {
          "end_time": "2025-04-23T10:39:20.967091Z",
          "start_time": "2025-04-23T10:39:20.950049Z"
        },
        "outputId": "5becc6a0-3367-4984-f9a1-1ed60e22be16",
        "colab": {
          "base_uri": "https://localhost:8080/",
          "height": 568
        }
      },
      "cell_type": "code",
      "source": [
        "LIST.head(5)"
      ],
      "outputs": [
        {
          "output_type": "execute_result",
          "data": {
            "text/plain": [
              "        LIST-ID        EDCS-ID    EDH-ID  \\\n",
              "445463   445464  EDCS-24900077  HD056163   \n",
              "445464   445465  EDCS-03700724  HD052964   \n",
              "445465   445466  EDCS-13800065  HD017714   \n",
              "445466   445467  EDCS-03300852  HD051000   \n",
              "445467   445468  EDCS-28500283  HD021396   \n",
              "\n",
              "                                trismegistos_uri pleiades_id  \\\n",
              "445463  https://www.trismegistos.org/text/177366      570485   \n",
              "445464  https://www.trismegistos.org/text/121715      531064   \n",
              "445465  https://www.trismegistos.org/text/177100      570049   \n",
              "445466  https://www.trismegistos.org/text/177273      240855   \n",
              "445467  https://www.trismegistos.org/text/177131               \n",
              "\n",
              "                                            transcription  \\\n",
              "445463  Q(uinto) Caecilio C(ai) f(ilio) Metelo / imper...   \n",
              "445464  Fortissimo et piis/simo Caesari d(omino) n(ost...   \n",
              "445465  Italicei / quei Aegei negotiantur / P(ublium) ...   \n",
              "445466  [Imp(eratori) Caes(ari) M(arco)] / An[nio] Flo...   \n",
              "445467  T[i(berius)] Claudius Caesar Aug(ustus) / G[er...   \n",
              "\n",
              "                                              inscription  \\\n",
              "445463  Q(uinto) Caecilio C(ai) f(ilio) Metel(l)o / im...   \n",
              "445464  Fortissimo et Piis/simo Caesari d(omino) n(ost...   \n",
              "445465  Italicei / quei Aegei negotiantur / P(ublium) ...   \n",
              "445466  Imp(eratori) / Floriano / P(io) F(elici) Aug(u...   \n",
              "445467  T[(iberius)] Claudius Caesar Aug(ustus) / G[er...   \n",
              "\n",
              "                                  clean_text_conservative  \\\n",
              "445463  Q Caecilio C f Metelo imperatori Italici quei ...   \n",
              "445464  Fortissimo et piissimo Caesari d n Gal Val P F...   \n",
              "445465  Italicei quei Aegei negotiantur P Rutilium P f...   \n",
              "445466  An Floriano P F Aug p p m p III Imp Caes M Aur...   \n",
              "445467  T Claudius Caesar Aug Ganicus pontif max trib ...   \n",
              "\n",
              "                         clean_text_interpretive_sentence  \\\n",
              "445463  Quinto Caecilio Cai filio Metelo imperatori It...   \n",
              "445464  Fortissimo et piissimo Caesari domino nostro G...   \n",
              "445465  Italicei quei Aegei negotiantur Publium Rutili...   \n",
              "445466  Imperatori Caesari Marco Annio Floriano Pio Fe...   \n",
              "445467  Tiberius Claudius Caesar Augustus Germanicus p...   \n",
              "\n",
              "                             clean_text_interpretive_word  ...  Longitude  \\\n",
              "445463  Quinto Caecilio Cai filio Metelo imperatori It...  ...  22.841200   \n",
              "445464  Fortissimo et piissimo Caesari domino nostro G...  ...  20.766800   \n",
              "445465  Italicei quei Aegei negotiantur Publium Rutili...  ...  22.084500   \n",
              "445466  Imperatori Caesari Marco Annio Floriano Pio Fe...  ...  22.417100   \n",
              "445467  Tiberius Claudius Caesar Augustus Germanicus p...  ...  22.420877   \n",
              "\n",
              "         Latitude is_geotemporal                  geometry is_within_RE  \\\n",
              "445463  37.649800           True   POINT (22.8412 37.6498)         True   \n",
              "445464  39.451200           True   POINT (20.7668 39.4512)         True   \n",
              "445465  38.248700           True   POINT (22.0845 38.2487)         True   \n",
              "445466  37.431900           True   POINT (22.4171 37.4319)         True   \n",
              "445467  37.454501           True  POINT (22.42088 37.4545)         True   \n",
              "\n",
              "       urban_context urban_context_city urban_context_pop_est  \\\n",
              "445463         rural               None                   NaN   \n",
              "445464         rural               None                   NaN   \n",
              "445465         small             Aegium                1000.0   \n",
              "445466         large              Tegea               46362.0   \n",
              "445467         large              Tegea               46362.0   \n",
              "\n",
              "        type_of_inscription_auto type_of_inscription_auto_prob  \n",
              "445463     honorific inscription                           1.0  \n",
              "445464     honorific inscription                           1.0  \n",
              "445465        votive inscription                           1.0  \n",
              "445466         mile-/leaguestone                           1.0  \n",
              "445467  public legal inscription                           1.0  \n",
              "\n",
              "[5 rows x 65 columns]"
            ],
            "text/html": [
              "\n",
              "  <div id=\"df-a6099d93-b2a0-4798-aad1-0b80f3b169c3\" class=\"colab-df-container\">\n",
              "    <div>\n",
              "<style scoped>\n",
              "    .dataframe tbody tr th:only-of-type {\n",
              "        vertical-align: middle;\n",
              "    }\n",
              "\n",
              "    .dataframe tbody tr th {\n",
              "        vertical-align: top;\n",
              "    }\n",
              "\n",
              "    .dataframe thead th {\n",
              "        text-align: right;\n",
              "    }\n",
              "</style>\n",
              "<table border=\"1\" class=\"dataframe\">\n",
              "  <thead>\n",
              "    <tr style=\"text-align: right;\">\n",
              "      <th></th>\n",
              "      <th>LIST-ID</th>\n",
              "      <th>EDCS-ID</th>\n",
              "      <th>EDH-ID</th>\n",
              "      <th>trismegistos_uri</th>\n",
              "      <th>pleiades_id</th>\n",
              "      <th>transcription</th>\n",
              "      <th>inscription</th>\n",
              "      <th>clean_text_conservative</th>\n",
              "      <th>clean_text_interpretive_sentence</th>\n",
              "      <th>clean_text_interpretive_word</th>\n",
              "      <th>...</th>\n",
              "      <th>Longitude</th>\n",
              "      <th>Latitude</th>\n",
              "      <th>is_geotemporal</th>\n",
              "      <th>geometry</th>\n",
              "      <th>is_within_RE</th>\n",
              "      <th>urban_context</th>\n",
              "      <th>urban_context_city</th>\n",
              "      <th>urban_context_pop_est</th>\n",
              "      <th>type_of_inscription_auto</th>\n",
              "      <th>type_of_inscription_auto_prob</th>\n",
              "    </tr>\n",
              "  </thead>\n",
              "  <tbody>\n",
              "    <tr>\n",
              "      <th>445463</th>\n",
              "      <td>445464</td>\n",
              "      <td>EDCS-24900077</td>\n",
              "      <td>HD056163</td>\n",
              "      <td>https://www.trismegistos.org/text/177366</td>\n",
              "      <td>570485</td>\n",
              "      <td>Q(uinto) Caecilio C(ai) f(ilio) Metelo / imper...</td>\n",
              "      <td>Q(uinto) Caecilio C(ai) f(ilio) Metel(l)o / im...</td>\n",
              "      <td>Q Caecilio C f Metelo imperatori Italici quei ...</td>\n",
              "      <td>Quinto Caecilio Cai filio Metelo imperatori It...</td>\n",
              "      <td>Quinto Caecilio Cai filio Metelo imperatori It...</td>\n",
              "      <td>...</td>\n",
              "      <td>22.841200</td>\n",
              "      <td>37.649800</td>\n",
              "      <td>True</td>\n",
              "      <td>POINT (22.8412 37.6498)</td>\n",
              "      <td>True</td>\n",
              "      <td>rural</td>\n",
              "      <td>None</td>\n",
              "      <td>NaN</td>\n",
              "      <td>honorific inscription</td>\n",
              "      <td>1.0</td>\n",
              "    </tr>\n",
              "    <tr>\n",
              "      <th>445464</th>\n",
              "      <td>445465</td>\n",
              "      <td>EDCS-03700724</td>\n",
              "      <td>HD052964</td>\n",
              "      <td>https://www.trismegistos.org/text/121715</td>\n",
              "      <td>531064</td>\n",
              "      <td>Fortissimo et piis/simo Caesari d(omino) n(ost...</td>\n",
              "      <td>Fortissimo et Piis/simo Caesari d(omino) n(ost...</td>\n",
              "      <td>Fortissimo et piissimo Caesari d n Gal Val P F...</td>\n",
              "      <td>Fortissimo et piissimo Caesari domino nostro G...</td>\n",
              "      <td>Fortissimo et piissimo Caesari domino nostro G...</td>\n",
              "      <td>...</td>\n",
              "      <td>20.766800</td>\n",
              "      <td>39.451200</td>\n",
              "      <td>True</td>\n",
              "      <td>POINT (20.7668 39.4512)</td>\n",
              "      <td>True</td>\n",
              "      <td>rural</td>\n",
              "      <td>None</td>\n",
              "      <td>NaN</td>\n",
              "      <td>honorific inscription</td>\n",
              "      <td>1.0</td>\n",
              "    </tr>\n",
              "    <tr>\n",
              "      <th>445465</th>\n",
              "      <td>445466</td>\n",
              "      <td>EDCS-13800065</td>\n",
              "      <td>HD017714</td>\n",
              "      <td>https://www.trismegistos.org/text/177100</td>\n",
              "      <td>570049</td>\n",
              "      <td>Italicei / quei Aegei negotiantur / P(ublium) ...</td>\n",
              "      <td>Italicei / quei Aegei negotiantur / P(ublium) ...</td>\n",
              "      <td>Italicei quei Aegei negotiantur P Rutilium P f...</td>\n",
              "      <td>Italicei quei Aegei negotiantur Publium Rutili...</td>\n",
              "      <td>Italicei quei Aegei negotiantur Publium Rutili...</td>\n",
              "      <td>...</td>\n",
              "      <td>22.084500</td>\n",
              "      <td>38.248700</td>\n",
              "      <td>True</td>\n",
              "      <td>POINT (22.0845 38.2487)</td>\n",
              "      <td>True</td>\n",
              "      <td>small</td>\n",
              "      <td>Aegium</td>\n",
              "      <td>1000.0</td>\n",
              "      <td>votive inscription</td>\n",
              "      <td>1.0</td>\n",
              "    </tr>\n",
              "    <tr>\n",
              "      <th>445466</th>\n",
              "      <td>445467</td>\n",
              "      <td>EDCS-03300852</td>\n",
              "      <td>HD051000</td>\n",
              "      <td>https://www.trismegistos.org/text/177273</td>\n",
              "      <td>240855</td>\n",
              "      <td>[Imp(eratori) Caes(ari) M(arco)] / An[nio] Flo...</td>\n",
              "      <td>Imp(eratori) / Floriano / P(io) F(elici) Aug(u...</td>\n",
              "      <td>An Floriano P F Aug p p m p III Imp Caes M Aur...</td>\n",
              "      <td>Imperatori Caesari Marco Annio Floriano Pio Fe...</td>\n",
              "      <td>Imperatori Caesari Marco Annio Floriano Pio Fe...</td>\n",
              "      <td>...</td>\n",
              "      <td>22.417100</td>\n",
              "      <td>37.431900</td>\n",
              "      <td>True</td>\n",
              "      <td>POINT (22.4171 37.4319)</td>\n",
              "      <td>True</td>\n",
              "      <td>large</td>\n",
              "      <td>Tegea</td>\n",
              "      <td>46362.0</td>\n",
              "      <td>mile-/leaguestone</td>\n",
              "      <td>1.0</td>\n",
              "    </tr>\n",
              "    <tr>\n",
              "      <th>445467</th>\n",
              "      <td>445468</td>\n",
              "      <td>EDCS-28500283</td>\n",
              "      <td>HD021396</td>\n",
              "      <td>https://www.trismegistos.org/text/177131</td>\n",
              "      <td></td>\n",
              "      <td>T[i(berius)] Claudius Caesar Aug(ustus) / G[er...</td>\n",
              "      <td>T[(iberius)] Claudius Caesar Aug(ustus) / G[er...</td>\n",
              "      <td>T Claudius Caesar Aug Ganicus pontif max trib ...</td>\n",
              "      <td>Tiberius Claudius Caesar Augustus Germanicus p...</td>\n",
              "      <td>Tiberius Claudius Caesar Augustus Germanicus p...</td>\n",
              "      <td>...</td>\n",
              "      <td>22.420877</td>\n",
              "      <td>37.454501</td>\n",
              "      <td>True</td>\n",
              "      <td>POINT (22.42088 37.4545)</td>\n",
              "      <td>True</td>\n",
              "      <td>large</td>\n",
              "      <td>Tegea</td>\n",
              "      <td>46362.0</td>\n",
              "      <td>public legal inscription</td>\n",
              "      <td>1.0</td>\n",
              "    </tr>\n",
              "  </tbody>\n",
              "</table>\n",
              "<p>5 rows × 65 columns</p>\n",
              "</div>\n",
              "    <div class=\"colab-df-buttons\">\n",
              "\n",
              "  <div class=\"colab-df-container\">\n",
              "    <button class=\"colab-df-convert\" onclick=\"convertToInteractive('df-a6099d93-b2a0-4798-aad1-0b80f3b169c3')\"\n",
              "            title=\"Convert this dataframe to an interactive table.\"\n",
              "            style=\"display:none;\">\n",
              "\n",
              "  <svg xmlns=\"http://www.w3.org/2000/svg\" height=\"24px\" viewBox=\"0 -960 960 960\">\n",
              "    <path d=\"M120-120v-720h720v720H120Zm60-500h600v-160H180v160Zm220 220h160v-160H400v160Zm0 220h160v-160H400v160ZM180-400h160v-160H180v160Zm440 0h160v-160H620v160ZM180-180h160v-160H180v160Zm440 0h160v-160H620v160Z\"/>\n",
              "  </svg>\n",
              "    </button>\n",
              "\n",
              "  <style>\n",
              "    .colab-df-container {\n",
              "      display:flex;\n",
              "      gap: 12px;\n",
              "    }\n",
              "\n",
              "    .colab-df-convert {\n",
              "      background-color: #E8F0FE;\n",
              "      border: none;\n",
              "      border-radius: 50%;\n",
              "      cursor: pointer;\n",
              "      display: none;\n",
              "      fill: #1967D2;\n",
              "      height: 32px;\n",
              "      padding: 0 0 0 0;\n",
              "      width: 32px;\n",
              "    }\n",
              "\n",
              "    .colab-df-convert:hover {\n",
              "      background-color: #E2EBFA;\n",
              "      box-shadow: 0px 1px 2px rgba(60, 64, 67, 0.3), 0px 1px 3px 1px rgba(60, 64, 67, 0.15);\n",
              "      fill: #174EA6;\n",
              "    }\n",
              "\n",
              "    .colab-df-buttons div {\n",
              "      margin-bottom: 4px;\n",
              "    }\n",
              "\n",
              "    [theme=dark] .colab-df-convert {\n",
              "      background-color: #3B4455;\n",
              "      fill: #D2E3FC;\n",
              "    }\n",
              "\n",
              "    [theme=dark] .colab-df-convert:hover {\n",
              "      background-color: #434B5C;\n",
              "      box-shadow: 0px 1px 3px 1px rgba(0, 0, 0, 0.15);\n",
              "      filter: drop-shadow(0px 1px 2px rgba(0, 0, 0, 0.3));\n",
              "      fill: #FFFFFF;\n",
              "    }\n",
              "  </style>\n",
              "\n",
              "    <script>\n",
              "      const buttonEl =\n",
              "        document.querySelector('#df-a6099d93-b2a0-4798-aad1-0b80f3b169c3 button.colab-df-convert');\n",
              "      buttonEl.style.display =\n",
              "        google.colab.kernel.accessAllowed ? 'block' : 'none';\n",
              "\n",
              "      async function convertToInteractive(key) {\n",
              "        const element = document.querySelector('#df-a6099d93-b2a0-4798-aad1-0b80f3b169c3');\n",
              "        const dataTable =\n",
              "          await google.colab.kernel.invokeFunction('convertToInteractive',\n",
              "                                                    [key], {});\n",
              "        if (!dataTable) return;\n",
              "\n",
              "        const docLinkHtml = 'Like what you see? Visit the ' +\n",
              "          '<a target=\"_blank\" href=https://colab.research.google.com/notebooks/data_table.ipynb>data table notebook</a>'\n",
              "          + ' to learn more about interactive tables.';\n",
              "        element.innerHTML = '';\n",
              "        dataTable['output_type'] = 'display_data';\n",
              "        await google.colab.output.renderOutput(dataTable, element);\n",
              "        const docLink = document.createElement('div');\n",
              "        docLink.innerHTML = docLinkHtml;\n",
              "        element.appendChild(docLink);\n",
              "      }\n",
              "    </script>\n",
              "  </div>\n",
              "\n",
              "\n",
              "    <div id=\"df-31612eaa-9949-47bc-b437-48c70218522e\">\n",
              "      <button class=\"colab-df-quickchart\" onclick=\"quickchart('df-31612eaa-9949-47bc-b437-48c70218522e')\"\n",
              "                title=\"Suggest charts\"\n",
              "                style=\"display:none;\">\n",
              "\n",
              "<svg xmlns=\"http://www.w3.org/2000/svg\" height=\"24px\"viewBox=\"0 0 24 24\"\n",
              "     width=\"24px\">\n",
              "    <g>\n",
              "        <path d=\"M19 3H5c-1.1 0-2 .9-2 2v14c0 1.1.9 2 2 2h14c1.1 0 2-.9 2-2V5c0-1.1-.9-2-2-2zM9 17H7v-7h2v7zm4 0h-2V7h2v10zm4 0h-2v-4h2v4z\"/>\n",
              "    </g>\n",
              "</svg>\n",
              "      </button>\n",
              "\n",
              "<style>\n",
              "  .colab-df-quickchart {\n",
              "      --bg-color: #E8F0FE;\n",
              "      --fill-color: #1967D2;\n",
              "      --hover-bg-color: #E2EBFA;\n",
              "      --hover-fill-color: #174EA6;\n",
              "      --disabled-fill-color: #AAA;\n",
              "      --disabled-bg-color: #DDD;\n",
              "  }\n",
              "\n",
              "  [theme=dark] .colab-df-quickchart {\n",
              "      --bg-color: #3B4455;\n",
              "      --fill-color: #D2E3FC;\n",
              "      --hover-bg-color: #434B5C;\n",
              "      --hover-fill-color: #FFFFFF;\n",
              "      --disabled-bg-color: #3B4455;\n",
              "      --disabled-fill-color: #666;\n",
              "  }\n",
              "\n",
              "  .colab-df-quickchart {\n",
              "    background-color: var(--bg-color);\n",
              "    border: none;\n",
              "    border-radius: 50%;\n",
              "    cursor: pointer;\n",
              "    display: none;\n",
              "    fill: var(--fill-color);\n",
              "    height: 32px;\n",
              "    padding: 0;\n",
              "    width: 32px;\n",
              "  }\n",
              "\n",
              "  .colab-df-quickchart:hover {\n",
              "    background-color: var(--hover-bg-color);\n",
              "    box-shadow: 0 1px 2px rgba(60, 64, 67, 0.3), 0 1px 3px 1px rgba(60, 64, 67, 0.15);\n",
              "    fill: var(--button-hover-fill-color);\n",
              "  }\n",
              "\n",
              "  .colab-df-quickchart-complete:disabled,\n",
              "  .colab-df-quickchart-complete:disabled:hover {\n",
              "    background-color: var(--disabled-bg-color);\n",
              "    fill: var(--disabled-fill-color);\n",
              "    box-shadow: none;\n",
              "  }\n",
              "\n",
              "  .colab-df-spinner {\n",
              "    border: 2px solid var(--fill-color);\n",
              "    border-color: transparent;\n",
              "    border-bottom-color: var(--fill-color);\n",
              "    animation:\n",
              "      spin 1s steps(1) infinite;\n",
              "  }\n",
              "\n",
              "  @keyframes spin {\n",
              "    0% {\n",
              "      border-color: transparent;\n",
              "      border-bottom-color: var(--fill-color);\n",
              "      border-left-color: var(--fill-color);\n",
              "    }\n",
              "    20% {\n",
              "      border-color: transparent;\n",
              "      border-left-color: var(--fill-color);\n",
              "      border-top-color: var(--fill-color);\n",
              "    }\n",
              "    30% {\n",
              "      border-color: transparent;\n",
              "      border-left-color: var(--fill-color);\n",
              "      border-top-color: var(--fill-color);\n",
              "      border-right-color: var(--fill-color);\n",
              "    }\n",
              "    40% {\n",
              "      border-color: transparent;\n",
              "      border-right-color: var(--fill-color);\n",
              "      border-top-color: var(--fill-color);\n",
              "    }\n",
              "    60% {\n",
              "      border-color: transparent;\n",
              "      border-right-color: var(--fill-color);\n",
              "    }\n",
              "    80% {\n",
              "      border-color: transparent;\n",
              "      border-right-color: var(--fill-color);\n",
              "      border-bottom-color: var(--fill-color);\n",
              "    }\n",
              "    90% {\n",
              "      border-color: transparent;\n",
              "      border-bottom-color: var(--fill-color);\n",
              "    }\n",
              "  }\n",
              "</style>\n",
              "\n",
              "      <script>\n",
              "        async function quickchart(key) {\n",
              "          const quickchartButtonEl =\n",
              "            document.querySelector('#' + key + ' button');\n",
              "          quickchartButtonEl.disabled = true;  // To prevent multiple clicks.\n",
              "          quickchartButtonEl.classList.add('colab-df-spinner');\n",
              "          try {\n",
              "            const charts = await google.colab.kernel.invokeFunction(\n",
              "                'suggestCharts', [key], {});\n",
              "          } catch (error) {\n",
              "            console.error('Error during call to suggestCharts:', error);\n",
              "          }\n",
              "          quickchartButtonEl.classList.remove('colab-df-spinner');\n",
              "          quickchartButtonEl.classList.add('colab-df-quickchart-complete');\n",
              "        }\n",
              "        (() => {\n",
              "          let quickchartButtonEl =\n",
              "            document.querySelector('#df-31612eaa-9949-47bc-b437-48c70218522e button');\n",
              "          quickchartButtonEl.style.display =\n",
              "            google.colab.kernel.accessAllowed ? 'block' : 'none';\n",
              "        })();\n",
              "      </script>\n",
              "    </div>\n",
              "\n",
              "    </div>\n",
              "  </div>\n"
            ],
            "application/vnd.google.colaboratory.intrinsic+json": {
              "type": "dataframe",
              "variable_name": "LIST"
            }
          },
          "metadata": {},
          "execution_count": 5
        }
      ],
      "execution_count": 5
    },
    {
      "metadata": {
        "colab": {
          "base_uri": "https://localhost:8080/",
          "height": 412
        },
        "execution_time": 10,
        "id": "nhHJgYpfRjOy",
        "outputId": "323ee3db-7240-4278-b04c-013dc485d90e",
        "ExecuteTime": {
          "end_time": "2025-04-23T10:42:41.489596Z",
          "start_time": "2025-04-23T10:42:35.399277Z"
        }
      },
      "cell_type": "code",
      "source": [
        "# spatial explorations\n",
        "LIST[LIST[\"is_geotemporal\"]].plot(color=\"black\", markersize=1)"
      ],
      "outputs": [
        {
          "output_type": "execute_result",
          "data": {
            "text/plain": [
              "<Axes: >"
            ]
          },
          "metadata": {},
          "execution_count": 6
        },
        {
          "output_type": "display_data",
          "data": {
            "text/plain": [
              "<Figure size 640x480 with 1 Axes>"
            ],
            "image/png": "[encoded data removed]"
          },
          "metadata": {}
        }
      ],
      "execution_count": 6
    },
    {
      "metadata": {
        "ExecuteTime": {
          "end_time": "2025-04-23T10:43:28.715390Z",
          "start_time": "2025-04-23T10:43:28.706363Z"
        },
        "id": "XeNfDUcpH7u7",
        "outputId": "fcd61c17-6e94-451f-824a-c0ff13eff5ad",
        "colab": {
          "base_uri": "https://localhost:8080/"
        }
      },
      "cell_type": "code",
      "source": [
        "# textual explorations\n",
        "LIST_texts = LIST[\"clean_text_interpretive_word\"].tolist()\n",
        "LIST_texts[:10]\n"
      ],
      "outputs": [
        {
          "output_type": "execute_result",
          "data": {
            "text/plain": [
              "['Quinto Caecilio Cai filio Metelo imperatori Italici quei Argeis negotiantur',\n",
              " 'Fortissimo et piissimo Caesari domino nostro Galerio Valerio Maximiano Pio Felici Invicto Coranius Titianus vir perfectissimus praeses provinciae veteris Epiri numini eorum dicatissimus',\n",
              " 'Italicei quei Aegei negotiantur Publium Rutilium Publi filium Nudum quaestorem',\n",
              " 'Imperatori Caesari Marco Annio Floriano Pio Felici Augusto patri patriae milia passuum III Imperatori Caesari Marco Aurelio Probo Pio Felici Augusto milia passuum II',\n",
              " 'Tiberius Claudius Caesar Augustus Germanicus pontifex maximus tribunicia potestate VIIII imperator XVI pater patriae dicit cum et colonias et municipia non solum Italiae verum etiam provinciarum item civitatium cuius que provinciae lebare oneribus vehiculorum praebendorum saepe temptavissem et cum satis multa remedia invenisse mihi viderer potuit tamen nequitiae hominum C RAS RVM aut falsa nomina ius dedit turo ante diem',\n",
              " 'Decimius Secundinus vir clarissimus proconsul curatori et defensori Amfissensium salutem ut memini non repurgari modo aquae ductum verum etiam induci aquam iusseram confestim igitur in veteres cisternas aqua ut semper cucurrerat inducatur gratias agente beatitudini temporis et moderationi meae Hesperio quod fundus qui aquam publicam occupavit publicus non fit sane ne similis interceptio iterum fieri possit in cisternis ipsis lapideo titulo posito unde aqua veniat adscribite ut nulla invadendi publicum renno lt v gt at lt u gt r occasio memores eritis perfecta haec omnia ante diem decimum Kalendarum Ianuariarum vos ad officium nuntiare debere opto bene valeatis',\n",
              " 'Pro salute Imperatorum Caesaris Luci Septimi Severi et Marci Aureli Antonini Auggustorum et Publi Septimi Gaetae Caesaris Marcus Aurelius Rufinus evocatus Auggustorum nnostrorum Sancto Deo Invicto speleum constituit cum militibus praetorianis Flavio Clarino Aelio Messio Aurelio Iuliano',\n",
              " 'Diogenes piscinam lt v gt eterem no lt v gt am fecit totam',\n",
              " 'Octavius Salutaris',\n",
              " 'tionee praecepimus maiori exuberante me aca haberet etiam con nostrae favor AECT']"
            ]
          },
          "metadata": {},
          "execution_count": 25
        }
      ],
      "execution_count": 25
    },
    {
      "metadata": {
        "id": "CTisOpjIH7u8"
      },
      "cell_type": "code",
      "outputs": [],
      "execution_count": 26,
      "source": [
        "import spacy\n",
        "from spacy.tokens import DocBin"
      ]
    },
    {
      "cell_type": "code",
      "execution_count": 27,
      "metadata": {
        "id": "Fdp1_yRE6KpT"
      },
      "outputs": [],
      "source": [
        "# Liste typischer Berufsbezeichnungen (auch zusammengesetzt)\n",
        "occupations = [\n",
        "    \"faber\", \"faber ferrarius\", \"faber aerarius\", \"aurifex\",\n",
        "    \"monetarius\", \"argentarius\", \"flaturarius\", \"brattiarius\"\n",
        "]\n"
      ]
    },
    {
      "cell_type": "code",
      "source": [
        "def annotate_berufe(text, occupations):\n",
        "    annotations = []\n",
        "    for occupation in occupations:\n",
        "        if occupation in text:\n",
        "            start = text.index(occupation)\n",
        "            end = start + len(occupation)\n",
        "            annotations.append((start, end, \"OCCUPATION\"))\n",
        "    return annotations"
      ],
      "metadata": {
        "id": "erGjNFRNIx0M"
      },
      "execution_count": 28,
      "outputs": []
    },
    {
      "cell_type": "code",
      "execution_count": 29,
      "metadata": {
        "id": "DkTdqfJk6KpW"
      },
      "outputs": [],
      "source": [
        "TRAIN_DATA = [\n",
        "    (\"Marcus Tullius aurifex hic situs est.\", {\n",
        "        \"entities\": [(0, 14, \"PERSON\"), (15, 22, \"OCCUPATION\")]\n",
        "    }),\n",
        "    (\"Lucius Cornelius argentarius Romae vixit.\", {\n",
        "        \"entities\": [(0, 22, \"PERSON\"), (23, 35, \"OCCUPATION\")]\n",
        "    }),\n",
        "]\n",
        "# Beispielhafter zusätzlicher Trainingsdatensatz aus EDCS/EDH (ersetzen Sie dies durch Ihre tatsächlichen Daten)\n",
        "additional_data_from_metadata = [\n",
        "    (\"Ein Text aus EDCS mit einem Namen wie Lucius.\", {\"entities\": [(35, 41, \"PERSON\")]}),\n",
        "    (\"Ein weiterer Text aus EDH über einen Fabius maximus.\", {\"entities\": [(36, 49, \"PERSON\")]}),\n",
        "    # Fügen Sie hier weitere Beispiele aus Ihren Metadaten hinzu\n",
        "]\n",
        "\n",
        "# Fügen Sie die zusätzlichen Daten zu Ihrem bestehenden TRAIN_DATA hinzu\n",
        "TRAIN_DATA.extend(additional_data_from_metadata)\n",
        "\n",
        "# Fahren Sie mit dem Training Ihres Modells fort wie im ursprünglichen Notebook\n",
        "# ... (Code für die Modellinitialisierung, Training und Speicherung)"
      ]
    },
    {
      "cell_type": "code",
      "execution_count": 30,
      "metadata": {
        "id": "nJFQ4uQv6KpY"
      },
      "outputs": [],
      "source": [
        "for text in LIST[\"clean_text_interpretive_word\"].dropna():\n",
        "    entities = annotate_berufe(text, occupations)\n",
        "    if entities:\n",
        "        TRAIN_DATA.append((\n",
        "  \"Fortunae praetoriae sacrum Lucius Mucius Nicephor ... donum dederunt\",\n",
        "  {\"entities\": [(107, 114, \"OCCUPATION\")]}  # z. B. \"curator\"\n",
        "))\n"
      ]
    },
    {
      "cell_type": "code",
      "source": [
        "from spacy.training import Example\n",
        "\n",
        "nlp = spacy.blank(\"la\")  # leeres Lateinmodell\n",
        "ner = nlp.add_pipe(\"ner\")\n",
        "ner.add_label(\"OCCUPATION\")\n",
        "\n",
        "db = DocBin()\n",
        "\n",
        "for text, annotations in TRAIN_DATA:\n",
        "    doc = nlp.make_doc(text)\n",
        "    example = Example.from_dict(doc, annotations)\n",
        "    db.add(example.reference)\n",
        "\n",
        "# Speichere das Trainingsset\n",
        "db.to_disk(\"train.spacy\")"
      ],
      "metadata": {
        "id": "jBuI_hsrJI3E"
      },
      "execution_count": 31,
      "outputs": []
    },
    {
      "cell_type": "code",
      "source": [
        "from random import shuffle\n",
        "\n",
        "optimizer = nlp.begin_training()\n",
        "\n",
        "for i in range(20):\n",
        "    shuffle(TRAIN_DATA)\n",
        "    losses = {}\n",
        "    for text, annotations in TRAIN_DATA:\n",
        "        example = Example.from_dict(nlp.make_doc(text), annotations)\n",
        "        nlp.update([example], sgd=optimizer, losses=losses)\n",
        "    print(losses)\n",
        "\n",
        "nlp.to_disk(\"my_ner_model\")"
      ],
      "metadata": {
        "id": "uSzIqd7nJNd8",
        "outputId": "40d0e3f2-c6c2-4ed1-eefe-a0de1c722e0b",
        "colab": {
          "base_uri": "https://localhost:8080/"
        }
      },
      "execution_count": 32,
      "outputs": [
        {
          "output_type": "stream",
          "name": "stdout",
          "text": [
            "{'ner': np.float32(37.152573)}\n",
            "{'ner': np.float32(5.7833185)}\n",
            "{'ner': np.float32(3.5997715)}\n",
            "{'ner': np.float32(6.5732284)}\n",
            "{'ner': np.float32(3.9857466)}\n",
            "{'ner': np.float32(10.2843685)}\n",
            "{'ner': np.float32(2.976081)}\n",
            "{'ner': np.float32(1.1065261)}\n",
            "{'ner': np.float32(0.45066532)}\n",
            "{'ner': np.float32(4.1006797e-06)}\n",
            "{'ner': np.float32(1.33973e-07)}\n",
            "{'ner': np.float32(3.9453076e-09)}\n",
            "{'ner': np.float32(6.512212e-08)}\n",
            "{'ner': np.float32(2.8867847e-08)}\n",
            "{'ner': np.float32(4.1098724e-09)}\n",
            "{'ner': np.float32(2.5485505e-10)}\n",
            "{'ner': np.float32(1.1092035e-08)}\n",
            "{'ner': np.float32(1.1879348e-09)}\n",
            "{'ner': np.float32(1.9797934e-09)}\n",
            "{'ner': np.float32(4.1473087e-09)}\n"
          ]
        }
      ]
    },
    {
      "cell_type": "code",
      "source": [
        "nlp_test = spacy.load(\"my_ner_model\")\n",
        "doc = nlp_test(\"Publius Caecilius aurifex hic iacet\")\n",
        "for ent in doc.ents:\n",
        "    print(ent.text, ent.label_)"
      ],
      "metadata": {
        "id": "fT4uctzNJQw7",
        "outputId": "9c9e455b-c6b1-424f-bbb7-d868f7e03f76",
        "colab": {
          "base_uri": "https://localhost:8080/"
        }
      },
      "execution_count": 33,
      "outputs": [
        {
          "output_type": "stream",
          "name": "stdout",
          "text": [
            "Publius Caecilius PERSON\n",
            "aurifex OCCUPATION\n"
          ]
        }
      ]
    },
    {
      "cell_type": "code",
      "source": [
        "import ast\n",
        "\n",
        "# Funktion zum Parsen und Annotieren\n",
        "def extract_ner_data(row):\n",
        "    try:\n",
        "        text = row[\"clean_text_interpretive_word\"]\n",
        "        if gpd.isna(text):\n",
        "            return None\n",
        "        occups_raw = row[\"occups\"]\n",
        "        if gpd.isna(occups_raw):\n",
        "            return None\n",
        "        occups_list = ast.literal_eval(occups_raw)  # Parse z. B. ['faber']\n",
        "        entities = []\n",
        "        for occ in occups_list:\n",
        "            if occ in text:\n",
        "                start = text.index(occ)\n",
        "                end = start + len(occ)\n",
        "                entities.append((start, end, \"OCCUPATION\"))\n",
        "        if entities:\n",
        "            return (text, {\"entities\": entities})\n",
        "    except:\n",
        "        return None\n",
        "\n",
        "# Anwenden auf alle Zeilen\n",
        "train_data = LIST.apply(extract_ner_data, axis=1).dropna().tolist()\n",
        "\n",
        "# Zeige einige Beispiele\n",
        "train_data[:10]"
      ],
      "metadata": {
        "id": "372h2qXWJUdE",
        "outputId": "7d2cbd3b-632d-4d05-9066-8bd64a9958cf",
        "colab": {
          "base_uri": "https://localhost:8080/"
        }
      },
      "execution_count": 34,
      "outputs": [
        {
          "output_type": "execute_result",
          "data": {
            "text/plain": [
              "[]"
            ]
          },
          "metadata": {},
          "execution_count": 34
        }
      ]
    },
    {
      "cell_type": "code",
      "source": [
        "from spacy import displacy\n",
        "\n",
        "# Laden Sie Ihr trainiertes Modell\n",
        "nlp_test = spacy.load(\"my_ner_model\")\n",
        "\n",
        "# Beispieltext\n",
        "text = \"Publius Caecilius aurifex hic iacet\"\n",
        "\n",
        "# Verwenden Sie das Modell für den Text\n",
        "doc = nlp_test(text)\n",
        "\n",
        "# Visualisieren Sie die Entitäten\n",
        "displacy.render(doc, style=\"ent\", jupyter=True)"
      ],
      "metadata": {
        "id": "VjcrrX8LJ4M7",
        "outputId": "768c5527-541f-4f84-9829-566a59d545dc",
        "colab": {
          "base_uri": "https://localhost:8080/",
          "height": 52
        }
      },
      "execution_count": 35,
      "outputs": [
        {
          "output_type": "display_data",
          "data": {
            "text/plain": [
              "<IPython.core.display.HTML object>"
            ],
            "text/html": [
              "<span class=\"tex2jax_ignore\"><div class=\"entities\" style=\"line-height: 2.5; direction: ltr\">\n",
              "<mark class=\"entity\" style=\"background: #aa9cfc; padding: 0.45em 0.6em; margin: 0 0.25em; line-height: 1; border-radius: 0.35em;\">\n",
              "    Publius Caecilius\n",
              "    <span style=\"font-size: 0.8em; font-weight: bold; line-height: 1; border-radius: 0.35em; vertical-align: middle; margin-left: 0.5rem\">PERSON</span>\n",
              "</mark>\n",
              " \n",
              "<mark class=\"entity\" style=\"background: #ddd; padding: 0.45em 0.6em; margin: 0 0.25em; line-height: 1; border-radius: 0.35em;\">\n",
              "    aurifex\n",
              "    <span style=\"font-size: 0.8em; font-weight: bold; line-height: 1; border-radius: 0.35em; vertical-align: middle; margin-left: 0.5rem\">OCCUPATION</span>\n",
              "</mark>\n",
              " hic iacet</div></span>"
            ]
          },
          "metadata": {}
        }
      ]
    },
    {
      "cell_type": "code",
      "source": [
        "# Begrenzen Sie die Anzahl der Zeilen zur Visualisierung, z.B. die ersten 10\n",
        "num_examples_to_visualize = 10\n",
        "\n",
        "# Filtern Sie den Datensatz, um nur Zeilen mit Text zu berücksichtigen\n",
        "list_with_text = LIST.dropna(subset=[\"clean_text_interpretive_word\"])\n",
        "\n",
        "# Iterieren Sie durch die ausgewählten Zeilen und visualisieren Sie\n",
        "for index, row in list_with_text.head(num_examples_to_visualize).iterrows():\n",
        "    text = row[\"clean_text_interpretive_word\"]\n",
        "    doc = nlp_test(text)\n",
        "    print(f\"Original Text: {text}\")\n",
        "    displacy.render(doc, style=\"ent\", jupyter=True)\n",
        "    print(\"-\" * 50) # Trennlinie zwischen den Visualisierungen"
      ],
      "metadata": {
        "id": "JebPP8sdJ6Nr",
        "outputId": "bd3dd931-64a5-4be9-9ad1-0a2a5f5ce0fd",
        "colab": {
          "base_uri": "https://localhost:8080/",
          "height": 1000
        }
      },
      "execution_count": 39,
      "outputs": [
        {
          "output_type": "stream",
          "name": "stdout",
          "text": [
            "Original Text: Quinto Caecilio Cai filio Metelo imperatori Italici quei Argeis negotiantur\n"
          ]
        },
        {
          "output_type": "display_data",
          "data": {
            "text/plain": [
              "<IPython.core.display.HTML object>"
            ],
            "text/html": [
              "<span class=\"tex2jax_ignore\"><div class=\"entities\" style=\"line-height: 2.5; direction: ltr\">Quinto Caecilio Cai filio \n",
              "<mark class=\"entity\" style=\"background: #aa9cfc; padding: 0.45em 0.6em; margin: 0 0.25em; line-height: 1; border-radius: 0.35em;\">\n",
              "    Metelo imperatori\n",
              "    <span style=\"font-size: 0.8em; font-weight: bold; line-height: 1; border-radius: 0.35em; vertical-align: middle; margin-left: 0.5rem\">PERSON</span>\n",
              "</mark>\n",
              " Italici quei Argeis negotiantur</div></span>"
            ]
          },
          "metadata": {}
        },
        {
          "output_type": "stream",
          "name": "stdout",
          "text": [
            "--------------------------------------------------\n",
            "Original Text: Fortissimo et piissimo Caesari domino nostro Galerio Valerio Maximiano Pio Felici Invicto Coranius Titianus vir perfectissimus praeses provinciae veteris Epiri numini eorum dicatissimus\n"
          ]
        },
        {
          "output_type": "display_data",
          "data": {
            "text/plain": [
              "<IPython.core.display.HTML object>"
            ],
            "text/html": [
              "<span class=\"tex2jax_ignore\"><div class=\"entities\" style=\"line-height: 2.5; direction: ltr\">Fortissimo et piissimo Caesari domino nostro Galerio \n",
              "<mark class=\"entity\" style=\"background: #aa9cfc; padding: 0.45em 0.6em; margin: 0 0.25em; line-height: 1; border-radius: 0.35em;\">\n",
              "    Valerio Maximiano\n",
              "    <span style=\"font-size: 0.8em; font-weight: bold; line-height: 1; border-radius: 0.35em; vertical-align: middle; margin-left: 0.5rem\">PERSON</span>\n",
              "</mark>\n",
              " Pio Felici Invicto \n",
              "<mark class=\"entity\" style=\"background: #aa9cfc; padding: 0.45em 0.6em; margin: 0 0.25em; line-height: 1; border-radius: 0.35em;\">\n",
              "    Coranius Titianus\n",
              "    <span style=\"font-size: 0.8em; font-weight: bold; line-height: 1; border-radius: 0.35em; vertical-align: middle; margin-left: 0.5rem\">PERSON</span>\n",
              "</mark>\n",
              " vir perfectissimus praeses provinciae veteris Epiri numini eorum dicatissimus</div></span>"
            ]
          },
          "metadata": {}
        },
        {
          "output_type": "stream",
          "name": "stdout",
          "text": [
            "--------------------------------------------------\n",
            "Original Text: Italicei quei Aegei negotiantur Publium Rutilium Publi filium Nudum quaestorem\n"
          ]
        },
        {
          "output_type": "display_data",
          "data": {
            "text/plain": [
              "<IPython.core.display.HTML object>"
            ],
            "text/html": [
              "<span class=\"tex2jax_ignore\"><div class=\"entities\" style=\"line-height: 2.5; direction: ltr\">\n",
              "<mark class=\"entity\" style=\"background: #aa9cfc; padding: 0.45em 0.6em; margin: 0 0.25em; line-height: 1; border-radius: 0.35em;\">\n",
              "    Italicei quei\n",
              "    <span style=\"font-size: 0.8em; font-weight: bold; line-height: 1; border-radius: 0.35em; vertical-align: middle; margin-left: 0.5rem\">PERSON</span>\n",
              "</mark>\n",
              " Aegei negotiantur Publium Rutilium Publi filium Nudum quaestorem</div></span>"
            ]
          },
          "metadata": {}
        },
        {
          "output_type": "stream",
          "name": "stdout",
          "text": [
            "--------------------------------------------------\n",
            "Original Text: Imperatori Caesari Marco Annio Floriano Pio Felici Augusto patri patriae milia passuum III Imperatori Caesari Marco Aurelio Probo Pio Felici Augusto milia passuum II\n"
          ]
        },
        {
          "output_type": "display_data",
          "data": {
            "text/plain": [
              "<IPython.core.display.HTML object>"
            ],
            "text/html": [
              "<span class=\"tex2jax_ignore\"><div class=\"entities\" style=\"line-height: 2.5; direction: ltr\">Imperatori Caesari \n",
              "<mark class=\"entity\" style=\"background: #aa9cfc; padding: 0.45em 0.6em; margin: 0 0.25em; line-height: 1; border-radius: 0.35em;\">\n",
              "    Marco Annio\n",
              "    <span style=\"font-size: 0.8em; font-weight: bold; line-height: 1; border-radius: 0.35em; vertical-align: middle; margin-left: 0.5rem\">PERSON</span>\n",
              "</mark>\n",
              " Floriano Pio Felici \n",
              "<mark class=\"entity\" style=\"background: #aa9cfc; padding: 0.45em 0.6em; margin: 0 0.25em; line-height: 1; border-radius: 0.35em;\">\n",
              "    Augusto patri\n",
              "    <span style=\"font-size: 0.8em; font-weight: bold; line-height: 1; border-radius: 0.35em; vertical-align: middle; margin-left: 0.5rem\">PERSON</span>\n",
              "</mark>\n",
              " patriae milia passuum III Imperatori Caesari \n",
              "<mark class=\"entity\" style=\"background: #aa9cfc; padding: 0.45em 0.6em; margin: 0 0.25em; line-height: 1; border-radius: 0.35em;\">\n",
              "    Marco Aurelio\n",
              "    <span style=\"font-size: 0.8em; font-weight: bold; line-height: 1; border-radius: 0.35em; vertical-align: middle; margin-left: 0.5rem\">PERSON</span>\n",
              "</mark>\n",
              " \n",
              "<mark class=\"entity\" style=\"background: #aa9cfc; padding: 0.45em 0.6em; margin: 0 0.25em; line-height: 1; border-radius: 0.35em;\">\n",
              "    Probo Pio\n",
              "    <span style=\"font-size: 0.8em; font-weight: bold; line-height: 1; border-radius: 0.35em; vertical-align: middle; margin-left: 0.5rem\">PERSON</span>\n",
              "</mark>\n",
              " Felici Augusto milia passuum II</div></span>"
            ]
          },
          "metadata": {}
        },
        {
          "output_type": "stream",
          "name": "stdout",
          "text": [
            "--------------------------------------------------\n",
            "Original Text: Tiberius Claudius Caesar Augustus Germanicus pontifex maximus tribunicia potestate VIIII imperator XVI pater patriae dicit cum et colonias et municipia non solum Italiae verum etiam provinciarum item civitatium cuius que provinciae lebare oneribus vehiculorum praebendorum saepe temptavissem et cum satis multa remedia invenisse mihi viderer potuit tamen nequitiae hominum C RAS RVM aut falsa nomina ius dedit turo ante diem\n"
          ]
        },
        {
          "output_type": "display_data",
          "data": {
            "text/plain": [
              "<IPython.core.display.HTML object>"
            ],
            "text/html": [
              "<span class=\"tex2jax_ignore\"><div class=\"entities\" style=\"line-height: 2.5; direction: ltr\">Tiberius Claudius Caesar Augustus \n",
              "<mark class=\"entity\" style=\"background: #aa9cfc; padding: 0.45em 0.6em; margin: 0 0.25em; line-height: 1; border-radius: 0.35em;\">\n",
              "    Germanicus pontifex\n",
              "    <span style=\"font-size: 0.8em; font-weight: bold; line-height: 1; border-radius: 0.35em; vertical-align: middle; margin-left: 0.5rem\">PERSON</span>\n",
              "</mark>\n",
              " maximus tribunicia potestate VIIII imperator XVI pater patriae dicit cum et colonias et municipia non solum Italiae verum etiam provinciarum item civitatium cuius que provinciae lebare oneribus vehiculorum praebendorum saepe temptavissem et cum satis multa remedia invenisse mihi viderer potuit tamen nequitiae hominum C RAS RVM aut falsa nomina ius dedit turo ante diem</div></span>"
            ]
          },
          "metadata": {}
        },
        {
          "output_type": "stream",
          "name": "stdout",
          "text": [
            "--------------------------------------------------\n",
            "Original Text: Decimius Secundinus vir clarissimus proconsul curatori et defensori Amfissensium salutem ut memini non repurgari modo aquae ductum verum etiam induci aquam iusseram confestim igitur in veteres cisternas aqua ut semper cucurrerat inducatur gratias agente beatitudini temporis et moderationi meae Hesperio quod fundus qui aquam publicam occupavit publicus non fit sane ne similis interceptio iterum fieri possit in cisternis ipsis lapideo titulo posito unde aqua veniat adscribite ut nulla invadendi publicum renno lt v gt at lt u gt r occasio memores eritis perfecta haec omnia ante diem decimum Kalendarum Ianuariarum vos ad officium nuntiare debere opto bene valeatis\n"
          ]
        },
        {
          "output_type": "display_data",
          "data": {
            "text/plain": [
              "<IPython.core.display.HTML object>"
            ],
            "text/html": [
              "<span class=\"tex2jax_ignore\"><div class=\"entities\" style=\"line-height: 2.5; direction: ltr\">Decimius Secundinus vir clarissimus proconsul curatori et defensori Amfissensium salutem ut memini non repurgari modo aquae ductum verum etiam induci aquam iusseram confestim igitur in veteres cisternas aqua ut semper cucurrerat inducatur gratias agente beatitudini temporis et moderationi meae Hesperio quod fundus qui aquam publicam occupavit publicus non fit sane ne similis interceptio iterum fieri possit in cisternis ipsis lapideo titulo posito unde aqua veniat \n",
              "<mark class=\"entity\" style=\"background: #ddd; padding: 0.45em 0.6em; margin: 0 0.25em; line-height: 1; border-radius: 0.35em;\">\n",
              "    adscribite\n",
              "    <span style=\"font-size: 0.8em; font-weight: bold; line-height: 1; border-radius: 0.35em; vertical-align: middle; margin-left: 0.5rem\">OCCUPATION</span>\n",
              "</mark>\n",
              " ut nulla invadendi publicum renno lt v gt \n",
              "<mark class=\"entity\" style=\"background: #ddd; padding: 0.45em 0.6em; margin: 0 0.25em; line-height: 1; border-radius: 0.35em;\">\n",
              "    at\n",
              "    <span style=\"font-size: 0.8em; font-weight: bold; line-height: 1; border-radius: 0.35em; vertical-align: middle; margin-left: 0.5rem\">OCCUPATION</span>\n",
              "</mark>\n",
              " \n",
              "<mark class=\"entity\" style=\"background: #aa9cfc; padding: 0.45em 0.6em; margin: 0 0.25em; line-height: 1; border-radius: 0.35em;\">\n",
              "    lt u\n",
              "    <span style=\"font-size: 0.8em; font-weight: bold; line-height: 1; border-radius: 0.35em; vertical-align: middle; margin-left: 0.5rem\">PERSON</span>\n",
              "</mark>\n",
              " gt r occasio memores eritis perfecta haec omnia ante diem decimum \n",
              "<mark class=\"entity\" style=\"background: #aa9cfc; padding: 0.45em 0.6em; margin: 0 0.25em; line-height: 1; border-radius: 0.35em;\">\n",
              "    Kalendarum Ianuariarum\n",
              "    <span style=\"font-size: 0.8em; font-weight: bold; line-height: 1; border-radius: 0.35em; vertical-align: middle; margin-left: 0.5rem\">PERSON</span>\n",
              "</mark>\n",
              " vos ad officium nuntiare debere opto bene valeatis</div></span>"
            ]
          },
          "metadata": {}
        },
        {
          "output_type": "stream",
          "name": "stdout",
          "text": [
            "--------------------------------------------------\n",
            "Original Text: Pro salute Imperatorum Caesaris Luci Septimi Severi et Marci Aureli Antonini Auggustorum et Publi Septimi Gaetae Caesaris Marcus Aurelius Rufinus evocatus Auggustorum nnostrorum Sancto Deo Invicto speleum constituit cum militibus praetorianis Flavio Clarino Aelio Messio Aurelio Iuliano\n"
          ]
        },
        {
          "output_type": "display_data",
          "data": {
            "text/plain": [
              "<IPython.core.display.HTML object>"
            ],
            "text/html": [
              "<span class=\"tex2jax_ignore\"><div class=\"entities\" style=\"line-height: 2.5; direction: ltr\">Pro salute Imperatorum Caesaris Luci Septimi Severi et \n",
              "<mark class=\"entity\" style=\"background: #aa9cfc; padding: 0.45em 0.6em; margin: 0 0.25em; line-height: 1; border-radius: 0.35em;\">\n",
              "    Marci Aureli\n",
              "    <span style=\"font-size: 0.8em; font-weight: bold; line-height: 1; border-radius: 0.35em; vertical-align: middle; margin-left: 0.5rem\">PERSON</span>\n",
              "</mark>\n",
              " Antonini Auggustorum et Publi \n",
              "<mark class=\"entity\" style=\"background: #aa9cfc; padding: 0.45em 0.6em; margin: 0 0.25em; line-height: 1; border-radius: 0.35em;\">\n",
              "    Septimi Gaetae\n",
              "    <span style=\"font-size: 0.8em; font-weight: bold; line-height: 1; border-radius: 0.35em; vertical-align: middle; margin-left: 0.5rem\">PERSON</span>\n",
              "</mark>\n",
              " \n",
              "<mark class=\"entity\" style=\"background: #ddd; padding: 0.45em 0.6em; margin: 0 0.25em; line-height: 1; border-radius: 0.35em;\">\n",
              "    Caesaris\n",
              "    <span style=\"font-size: 0.8em; font-weight: bold; line-height: 1; border-radius: 0.35em; vertical-align: middle; margin-left: 0.5rem\">OCCUPATION</span>\n",
              "</mark>\n",
              " \n",
              "<mark class=\"entity\" style=\"background: #aa9cfc; padding: 0.45em 0.6em; margin: 0 0.25em; line-height: 1; border-radius: 0.35em;\">\n",
              "    Marcus Aurelius\n",
              "    <span style=\"font-size: 0.8em; font-weight: bold; line-height: 1; border-radius: 0.35em; vertical-align: middle; margin-left: 0.5rem\">PERSON</span>\n",
              "</mark>\n",
              " Rufinus evocatus Auggustorum nnostrorum Sancto Deo Invicto speleum constituit cum militibus praetorianis Flavio Clarino Aelio \n",
              "<mark class=\"entity\" style=\"background: #aa9cfc; padding: 0.45em 0.6em; margin: 0 0.25em; line-height: 1; border-radius: 0.35em;\">\n",
              "    Messio Aurelio\n",
              "    <span style=\"font-size: 0.8em; font-weight: bold; line-height: 1; border-radius: 0.35em; vertical-align: middle; margin-left: 0.5rem\">PERSON</span>\n",
              "</mark>\n",
              " \n",
              "<mark class=\"entity\" style=\"background: #aa9cfc; padding: 0.45em 0.6em; margin: 0 0.25em; line-height: 1; border-radius: 0.35em;\">\n",
              "    Iuliano\n",
              "    <span style=\"font-size: 0.8em; font-weight: bold; line-height: 1; border-radius: 0.35em; vertical-align: middle; margin-left: 0.5rem\">PERSON</span>\n",
              "</mark>\n",
              "</div></span>"
            ]
          },
          "metadata": {}
        },
        {
          "output_type": "stream",
          "name": "stdout",
          "text": [
            "--------------------------------------------------\n",
            "Original Text: Diogenes piscinam lt v gt eterem no lt v gt am fecit totam\n"
          ]
        },
        {
          "output_type": "display_data",
          "data": {
            "text/plain": [
              "<IPython.core.display.HTML object>"
            ],
            "text/html": [
              "<span class=\"tex2jax_ignore\"><div class=\"entities\" style=\"line-height: 2.5; direction: ltr\">Diogenes \n",
              "<mark class=\"entity\" style=\"background: #ddd; padding: 0.45em 0.6em; margin: 0 0.25em; line-height: 1; border-radius: 0.35em;\">\n",
              "    piscinam\n",
              "    <span style=\"font-size: 0.8em; font-weight: bold; line-height: 1; border-radius: 0.35em; vertical-align: middle; margin-left: 0.5rem\">OCCUPATION</span>\n",
              "</mark>\n",
              " lt v gt eterem no lt v gt am fecit totam</div></span>"
            ]
          },
          "metadata": {}
        },
        {
          "output_type": "stream",
          "name": "stdout",
          "text": [
            "--------------------------------------------------\n",
            "Original Text: Octavius Salutaris\n"
          ]
        },
        {
          "output_type": "display_data",
          "data": {
            "text/plain": [
              "<IPython.core.display.HTML object>"
            ],
            "text/html": [
              "<span class=\"tex2jax_ignore\"><div class=\"entities\" style=\"line-height: 2.5; direction: ltr\">Octavius \n",
              "<mark class=\"entity\" style=\"background: #ddd; padding: 0.45em 0.6em; margin: 0 0.25em; line-height: 1; border-radius: 0.35em;\">\n",
              "    Salutaris\n",
              "    <span style=\"font-size: 0.8em; font-weight: bold; line-height: 1; border-radius: 0.35em; vertical-align: middle; margin-left: 0.5rem\">OCCUPATION</span>\n",
              "</mark>\n",
              "</div></span>"
            ]
          },
          "metadata": {}
        },
        {
          "output_type": "stream",
          "name": "stdout",
          "text": [
            "--------------------------------------------------\n",
            "Original Text: tionee praecepimus maiori exuberante me aca haberet etiam con nostrae favor AECT\n"
          ]
        },
        {
          "output_type": "stream",
          "name": "stderr",
          "text": [
            "/usr/local/lib/python3.11/dist-packages/spacy/displacy/__init__.py:213: UserWarning: [W006] No entities to visualize found in Doc object. If this is surprising to you, make sure the Doc was processed using a model that supports named entity recognition, and check the `doc.ents` property manually if necessary.\n",
            "  warnings.warn(Warnings.W006)\n"
          ]
        },
        {
          "output_type": "display_data",
          "data": {
            "text/plain": [
              "<IPython.core.display.HTML object>"
            ],
            "text/html": [
              "<span class=\"tex2jax_ignore\"><div class=\"entities\" style=\"line-height: 2.5; direction: ltr\">tionee praecepimus maiori exuberante me aca haberet etiam con nostrae favor AECT</div></span>"
            ]
          },
          "metadata": {}
        },
        {
          "output_type": "stream",
          "name": "stdout",
          "text": [
            "--------------------------------------------------\n"
          ]
        }
      ]
    },
    {
      "cell_type": "code",
      "source": [
        "# Begrenzen Sie die Anzahl der Zeilen zur Visualisierung, z.B. die ersten 10\n",
        "num_examples_to_visualize = 10\n",
        "\n",
        "# Filtern Sie den Datensatz, um nur Zeilen mit Text zu berücksichtigen\n",
        "list_with_text = LIST.dropna(subset=[\"clean_text_interpretive_word_EDCS\"])\n",
        "\n",
        "# Iterieren Sie durch die ausgewählten Zeilen und visualisieren Sie\n",
        "for index, row in list_with_text.head(num_examples_to_visualize).iterrows():\n",
        "    text = row[\"clean_text_interpretive_word\"]\n",
        "    doc = nlp_test(text)\n",
        "    print(f\"Original Text: {text}\")\n",
        "    displacy.render(doc, style=\"ent\", jupyter=True)\n",
        "    print(\"-\" * 50) # Trennlinie zwischen den Visualisierungen"
      ],
      "metadata": {
        "id": "LtFHtRLqNbXs",
        "outputId": "3e784659-ab28-45d8-d5c9-a13b0678e5a6",
        "colab": {
          "base_uri": "https://localhost:8080/",
          "height": 1000
        }
      },
      "execution_count": 40,
      "outputs": [
        {
          "output_type": "stream",
          "name": "stdout",
          "text": [
            "Original Text: Quinto Caecilio Cai filio Metelo imperatori Italici quei Argeis negotiantur\n"
          ]
        },
        {
          "output_type": "display_data",
          "data": {
            "text/plain": [
              "<IPython.core.display.HTML object>"
            ],
            "text/html": [
              "<span class=\"tex2jax_ignore\"><div class=\"entities\" style=\"line-height: 2.5; direction: ltr\">Quinto Caecilio Cai filio \n",
              "<mark class=\"entity\" style=\"background: #aa9cfc; padding: 0.45em 0.6em; margin: 0 0.25em; line-height: 1; border-radius: 0.35em;\">\n",
              "    Metelo imperatori\n",
              "    <span style=\"font-size: 0.8em; font-weight: bold; line-height: 1; border-radius: 0.35em; vertical-align: middle; margin-left: 0.5rem\">PERSON</span>\n",
              "</mark>\n",
              " Italici quei Argeis negotiantur</div></span>"
            ]
          },
          "metadata": {}
        },
        {
          "output_type": "stream",
          "name": "stdout",
          "text": [
            "--------------------------------------------------\n",
            "Original Text: Fortissimo et piissimo Caesari domino nostro Galerio Valerio Maximiano Pio Felici Invicto Coranius Titianus vir perfectissimus praeses provinciae veteris Epiri numini eorum dicatissimus\n"
          ]
        },
        {
          "output_type": "display_data",
          "data": {
            "text/plain": [
              "<IPython.core.display.HTML object>"
            ],
            "text/html": [
              "<span class=\"tex2jax_ignore\"><div class=\"entities\" style=\"line-height: 2.5; direction: ltr\">Fortissimo et piissimo Caesari domino nostro Galerio \n",
              "<mark class=\"entity\" style=\"background: #aa9cfc; padding: 0.45em 0.6em; margin: 0 0.25em; line-height: 1; border-radius: 0.35em;\">\n",
              "    Valerio Maximiano\n",
              "    <span style=\"font-size: 0.8em; font-weight: bold; line-height: 1; border-radius: 0.35em; vertical-align: middle; margin-left: 0.5rem\">PERSON</span>\n",
              "</mark>\n",
              " Pio Felici Invicto \n",
              "<mark class=\"entity\" style=\"background: #aa9cfc; padding: 0.45em 0.6em; margin: 0 0.25em; line-height: 1; border-radius: 0.35em;\">\n",
              "    Coranius Titianus\n",
              "    <span style=\"font-size: 0.8em; font-weight: bold; line-height: 1; border-radius: 0.35em; vertical-align: middle; margin-left: 0.5rem\">PERSON</span>\n",
              "</mark>\n",
              " vir perfectissimus praeses provinciae veteris Epiri numini eorum dicatissimus</div></span>"
            ]
          },
          "metadata": {}
        },
        {
          "output_type": "stream",
          "name": "stdout",
          "text": [
            "--------------------------------------------------\n",
            "Original Text: Italicei quei Aegei negotiantur Publium Rutilium Publi filium Nudum quaestorem\n"
          ]
        },
        {
          "output_type": "display_data",
          "data": {
            "text/plain": [
              "<IPython.core.display.HTML object>"
            ],
            "text/html": [
              "<span class=\"tex2jax_ignore\"><div class=\"entities\" style=\"line-height: 2.5; direction: ltr\">\n",
              "<mark class=\"entity\" style=\"background: #aa9cfc; padding: 0.45em 0.6em; margin: 0 0.25em; line-height: 1; border-radius: 0.35em;\">\n",
              "    Italicei quei\n",
              "    <span style=\"font-size: 0.8em; font-weight: bold; line-height: 1; border-radius: 0.35em; vertical-align: middle; margin-left: 0.5rem\">PERSON</span>\n",
              "</mark>\n",
              " Aegei negotiantur Publium Rutilium Publi filium Nudum quaestorem</div></span>"
            ]
          },
          "metadata": {}
        },
        {
          "output_type": "stream",
          "name": "stdout",
          "text": [
            "--------------------------------------------------\n",
            "Original Text: Imperatori Caesari Marco Annio Floriano Pio Felici Augusto patri patriae milia passuum III Imperatori Caesari Marco Aurelio Probo Pio Felici Augusto milia passuum II\n"
          ]
        },
        {
          "output_type": "display_data",
          "data": {
            "text/plain": [
              "<IPython.core.display.HTML object>"
            ],
            "text/html": [
              "<span class=\"tex2jax_ignore\"><div class=\"entities\" style=\"line-height: 2.5; direction: ltr\">Imperatori Caesari \n",
              "<mark class=\"entity\" style=\"background: #aa9cfc; padding: 0.45em 0.6em; margin: 0 0.25em; line-height: 1; border-radius: 0.35em;\">\n",
              "    Marco Annio\n",
              "    <span style=\"font-size: 0.8em; font-weight: bold; line-height: 1; border-radius: 0.35em; vertical-align: middle; margin-left: 0.5rem\">PERSON</span>\n",
              "</mark>\n",
              " Floriano Pio Felici \n",
              "<mark class=\"entity\" style=\"background: #aa9cfc; padding: 0.45em 0.6em; margin: 0 0.25em; line-height: 1; border-radius: 0.35em;\">\n",
              "    Augusto patri\n",
              "    <span style=\"font-size: 0.8em; font-weight: bold; line-height: 1; border-radius: 0.35em; vertical-align: middle; margin-left: 0.5rem\">PERSON</span>\n",
              "</mark>\n",
              " patriae milia passuum III Imperatori Caesari \n",
              "<mark class=\"entity\" style=\"background: #aa9cfc; padding: 0.45em 0.6em; margin: 0 0.25em; line-height: 1; border-radius: 0.35em;\">\n",
              "    Marco Aurelio\n",
              "    <span style=\"font-size: 0.8em; font-weight: bold; line-height: 1; border-radius: 0.35em; vertical-align: middle; margin-left: 0.5rem\">PERSON</span>\n",
              "</mark>\n",
              " \n",
              "<mark class=\"entity\" style=\"background: #aa9cfc; padding: 0.45em 0.6em; margin: 0 0.25em; line-height: 1; border-radius: 0.35em;\">\n",
              "    Probo Pio\n",
              "    <span style=\"font-size: 0.8em; font-weight: bold; line-height: 1; border-radius: 0.35em; vertical-align: middle; margin-left: 0.5rem\">PERSON</span>\n",
              "</mark>\n",
              " Felici Augusto milia passuum II</div></span>"
            ]
          },
          "metadata": {}
        },
        {
          "output_type": "stream",
          "name": "stdout",
          "text": [
            "--------------------------------------------------\n",
            "Original Text: Tiberius Claudius Caesar Augustus Germanicus pontifex maximus tribunicia potestate VIIII imperator XVI pater patriae dicit cum et colonias et municipia non solum Italiae verum etiam provinciarum item civitatium cuius que provinciae lebare oneribus vehiculorum praebendorum saepe temptavissem et cum satis multa remedia invenisse mihi viderer potuit tamen nequitiae hominum C RAS RVM aut falsa nomina ius dedit turo ante diem\n"
          ]
        },
        {
          "output_type": "display_data",
          "data": {
            "text/plain": [
              "<IPython.core.display.HTML object>"
            ],
            "text/html": [
              "<span class=\"tex2jax_ignore\"><div class=\"entities\" style=\"line-height: 2.5; direction: ltr\">Tiberius Claudius Caesar Augustus \n",
              "<mark class=\"entity\" style=\"background: #aa9cfc; padding: 0.45em 0.6em; margin: 0 0.25em; line-height: 1; border-radius: 0.35em;\">\n",
              "    Germanicus pontifex\n",
              "    <span style=\"font-size: 0.8em; font-weight: bold; line-height: 1; border-radius: 0.35em; vertical-align: middle; margin-left: 0.5rem\">PERSON</span>\n",
              "</mark>\n",
              " maximus tribunicia potestate VIIII imperator XVI pater patriae dicit cum et colonias et municipia non solum Italiae verum etiam provinciarum item civitatium cuius que provinciae lebare oneribus vehiculorum praebendorum saepe temptavissem et cum satis multa remedia invenisse mihi viderer potuit tamen nequitiae hominum C RAS RVM aut falsa nomina ius dedit turo ante diem</div></span>"
            ]
          },
          "metadata": {}
        },
        {
          "output_type": "stream",
          "name": "stdout",
          "text": [
            "--------------------------------------------------\n",
            "Original Text: Decimius Secundinus vir clarissimus proconsul curatori et defensori Amfissensium salutem ut memini non repurgari modo aquae ductum verum etiam induci aquam iusseram confestim igitur in veteres cisternas aqua ut semper cucurrerat inducatur gratias agente beatitudini temporis et moderationi meae Hesperio quod fundus qui aquam publicam occupavit publicus non fit sane ne similis interceptio iterum fieri possit in cisternis ipsis lapideo titulo posito unde aqua veniat adscribite ut nulla invadendi publicum renno lt v gt at lt u gt r occasio memores eritis perfecta haec omnia ante diem decimum Kalendarum Ianuariarum vos ad officium nuntiare debere opto bene valeatis\n"
          ]
        },
        {
          "output_type": "display_data",
          "data": {
            "text/plain": [
              "<IPython.core.display.HTML object>"
            ],
            "text/html": [
              "<span class=\"tex2jax_ignore\"><div class=\"entities\" style=\"line-height: 2.5; direction: ltr\">Decimius Secundinus vir clarissimus proconsul curatori et defensori Amfissensium salutem ut memini non repurgari modo aquae ductum verum etiam induci aquam iusseram confestim igitur in veteres cisternas aqua ut semper cucurrerat inducatur gratias agente beatitudini temporis et moderationi meae Hesperio quod fundus qui aquam publicam occupavit publicus non fit sane ne similis interceptio iterum fieri possit in cisternis ipsis lapideo titulo posito unde aqua veniat \n",
              "<mark class=\"entity\" style=\"background: #ddd; padding: 0.45em 0.6em; margin: 0 0.25em; line-height: 1; border-radius: 0.35em;\">\n",
              "    adscribite\n",
              "    <span style=\"font-size: 0.8em; font-weight: bold; line-height: 1; border-radius: 0.35em; vertical-align: middle; margin-left: 0.5rem\">OCCUPATION</span>\n",
              "</mark>\n",
              " ut nulla invadendi publicum renno lt v gt \n",
              "<mark class=\"entity\" style=\"background: #ddd; padding: 0.45em 0.6em; margin: 0 0.25em; line-height: 1; border-radius: 0.35em;\">\n",
              "    at\n",
              "    <span style=\"font-size: 0.8em; font-weight: bold; line-height: 1; border-radius: 0.35em; vertical-align: middle; margin-left: 0.5rem\">OCCUPATION</span>\n",
              "</mark>\n",
              " \n",
              "<mark class=\"entity\" style=\"background: #aa9cfc; padding: 0.45em 0.6em; margin: 0 0.25em; line-height: 1; border-radius: 0.35em;\">\n",
              "    lt u\n",
              "    <span style=\"font-size: 0.8em; font-weight: bold; line-height: 1; border-radius: 0.35em; vertical-align: middle; margin-left: 0.5rem\">PERSON</span>\n",
              "</mark>\n",
              " gt r occasio memores eritis perfecta haec omnia ante diem decimum \n",
              "<mark class=\"entity\" style=\"background: #aa9cfc; padding: 0.45em 0.6em; margin: 0 0.25em; line-height: 1; border-radius: 0.35em;\">\n",
              "    Kalendarum Ianuariarum\n",
              "    <span style=\"font-size: 0.8em; font-weight: bold; line-height: 1; border-radius: 0.35em; vertical-align: middle; margin-left: 0.5rem\">PERSON</span>\n",
              "</mark>\n",
              " vos ad officium nuntiare debere opto bene valeatis</div></span>"
            ]
          },
          "metadata": {}
        },
        {
          "output_type": "stream",
          "name": "stdout",
          "text": [
            "--------------------------------------------------\n",
            "Original Text: Pro salute Imperatorum Caesaris Luci Septimi Severi et Marci Aureli Antonini Auggustorum et Publi Septimi Gaetae Caesaris Marcus Aurelius Rufinus evocatus Auggustorum nnostrorum Sancto Deo Invicto speleum constituit cum militibus praetorianis Flavio Clarino Aelio Messio Aurelio Iuliano\n"
          ]
        },
        {
          "output_type": "display_data",
          "data": {
            "text/plain": [
              "<IPython.core.display.HTML object>"
            ],
            "text/html": [
              "<span class=\"tex2jax_ignore\"><div class=\"entities\" style=\"line-height: 2.5; direction: ltr\">Pro salute Imperatorum Caesaris Luci Septimi Severi et \n",
              "<mark class=\"entity\" style=\"background: #aa9cfc; padding: 0.45em 0.6em; margin: 0 0.25em; line-height: 1; border-radius: 0.35em;\">\n",
              "    Marci Aureli\n",
              "    <span style=\"font-size: 0.8em; font-weight: bold; line-height: 1; border-radius: 0.35em; vertical-align: middle; margin-left: 0.5rem\">PERSON</span>\n",
              "</mark>\n",
              " Antonini Auggustorum et Publi \n",
              "<mark class=\"entity\" style=\"background: #aa9cfc; padding: 0.45em 0.6em; margin: 0 0.25em; line-height: 1; border-radius: 0.35em;\">\n",
              "    Septimi Gaetae\n",
              "    <span style=\"font-size: 0.8em; font-weight: bold; line-height: 1; border-radius: 0.35em; vertical-align: middle; margin-left: 0.5rem\">PERSON</span>\n",
              "</mark>\n",
              " \n",
              "<mark class=\"entity\" style=\"background: #ddd; padding: 0.45em 0.6em; margin: 0 0.25em; line-height: 1; border-radius: 0.35em;\">\n",
              "    Caesaris\n",
              "    <span style=\"font-size: 0.8em; font-weight: bold; line-height: 1; border-radius: 0.35em; vertical-align: middle; margin-left: 0.5rem\">OCCUPATION</span>\n",
              "</mark>\n",
              " \n",
              "<mark class=\"entity\" style=\"background: #aa9cfc; padding: 0.45em 0.6em; margin: 0 0.25em; line-height: 1; border-radius: 0.35em;\">\n",
              "    Marcus Aurelius\n",
              "    <span style=\"font-size: 0.8em; font-weight: bold; line-height: 1; border-radius: 0.35em; vertical-align: middle; margin-left: 0.5rem\">PERSON</span>\n",
              "</mark>\n",
              " Rufinus evocatus Auggustorum nnostrorum Sancto Deo Invicto speleum constituit cum militibus praetorianis Flavio Clarino Aelio \n",
              "<mark class=\"entity\" style=\"background: #aa9cfc; padding: 0.45em 0.6em; margin: 0 0.25em; line-height: 1; border-radius: 0.35em;\">\n",
              "    Messio Aurelio\n",
              "    <span style=\"font-size: 0.8em; font-weight: bold; line-height: 1; border-radius: 0.35em; vertical-align: middle; margin-left: 0.5rem\">PERSON</span>\n",
              "</mark>\n",
              " \n",
              "<mark class=\"entity\" style=\"background: #aa9cfc; padding: 0.45em 0.6em; margin: 0 0.25em; line-height: 1; border-radius: 0.35em;\">\n",
              "    Iuliano\n",
              "    <span style=\"font-size: 0.8em; font-weight: bold; line-height: 1; border-radius: 0.35em; vertical-align: middle; margin-left: 0.5rem\">PERSON</span>\n",
              "</mark>\n",
              "</div></span>"
            ]
          },
          "metadata": {}
        },
        {
          "output_type": "stream",
          "name": "stdout",
          "text": [
            "--------------------------------------------------\n",
            "Original Text: Diogenes piscinam lt v gt eterem no lt v gt am fecit totam\n"
          ]
        },
        {
          "output_type": "display_data",
          "data": {
            "text/plain": [
              "<IPython.core.display.HTML object>"
            ],
            "text/html": [
              "<span class=\"tex2jax_ignore\"><div class=\"entities\" style=\"line-height: 2.5; direction: ltr\">Diogenes \n",
              "<mark class=\"entity\" style=\"background: #ddd; padding: 0.45em 0.6em; margin: 0 0.25em; line-height: 1; border-radius: 0.35em;\">\n",
              "    piscinam\n",
              "    <span style=\"font-size: 0.8em; font-weight: bold; line-height: 1; border-radius: 0.35em; vertical-align: middle; margin-left: 0.5rem\">OCCUPATION</span>\n",
              "</mark>\n",
              " lt v gt eterem no lt v gt am fecit totam</div></span>"
            ]
          },
          "metadata": {}
        },
        {
          "output_type": "stream",
          "name": "stdout",
          "text": [
            "--------------------------------------------------\n",
            "Original Text: Octavius Salutaris\n"
          ]
        },
        {
          "output_type": "display_data",
          "data": {
            "text/plain": [
              "<IPython.core.display.HTML object>"
            ],
            "text/html": [
              "<span class=\"tex2jax_ignore\"><div class=\"entities\" style=\"line-height: 2.5; direction: ltr\">Octavius \n",
              "<mark class=\"entity\" style=\"background: #ddd; padding: 0.45em 0.6em; margin: 0 0.25em; line-height: 1; border-radius: 0.35em;\">\n",
              "    Salutaris\n",
              "    <span style=\"font-size: 0.8em; font-weight: bold; line-height: 1; border-radius: 0.35em; vertical-align: middle; margin-left: 0.5rem\">OCCUPATION</span>\n",
              "</mark>\n",
              "</div></span>"
            ]
          },
          "metadata": {}
        },
        {
          "output_type": "stream",
          "name": "stdout",
          "text": [
            "--------------------------------------------------\n",
            "Original Text: tionee praecepimus maiori exuberante me aca haberet etiam con nostrae favor AECT\n"
          ]
        },
        {
          "output_type": "stream",
          "name": "stderr",
          "text": [
            "/usr/local/lib/python3.11/dist-packages/spacy/displacy/__init__.py:213: UserWarning: [W006] No entities to visualize found in Doc object. If this is surprising to you, make sure the Doc was processed using a model that supports named entity recognition, and check the `doc.ents` property manually if necessary.\n",
            "  warnings.warn(Warnings.W006)\n"
          ]
        },
        {
          "output_type": "display_data",
          "data": {
            "text/plain": [
              "<IPython.core.display.HTML object>"
            ],
            "text/html": [
              "<span class=\"tex2jax_ignore\"><div class=\"entities\" style=\"line-height: 2.5; direction: ltr\">tionee praecepimus maiori exuberante me aca haberet etiam con nostrae favor AECT</div></span>"
            ]
          },
          "metadata": {}
        },
        {
          "output_type": "stream",
          "name": "stdout",
          "text": [
            "--------------------------------------------------\n"
          ]
        }
      ]
    },
    {
      "cell_type": "code",
      "source": [
        "from spacy.training.iob_utils import offsets_to_biluo_tags\n",
        "\n",
        "# Nehmen wir an, Sie haben einen Testsatz namens TEST_DATA im gleichen Format wie TRAIN_DATA\n",
        "# TEST_DATA = [\n",
        "#     (\"Text 1\", {\"entities\": [(start, end, \"LABEL\")]}),\n",
        "#     (\"Text 2\", {\"entities\": [(start, end, \"LABEL\")]}),\n",
        "#     ...\n",
        "# ]\n",
        "\n",
        "# Beispiel TEST_DATA (ersetzen Sie dies durch Ihren tatsächlichen Testsatz)\n",
        "TEST_DATA = [\n",
        "    (\"Caius Julius monetarius Romam pervenit.\", {\"entities\": [(0, 12, \"PERSON\"), (13, 23, \"OCCUPATION\")]}),\n",
        "    (\"Fabius Maximus faber hic laboravit.\", {\"entities\": [(0, 13, \"PERSON\"), (14, 19, \"OCCUPATION\")]}),\n",
        "]\n",
        "\n",
        "# Laden Sie Ihr trainiertes Modell\n",
        "nlp_test = spacy.load(\"my_ner_model\")\n",
        "\n",
        "# Listen zur Speicherung von vorhergesagten und tatsächlichen Tags\n",
        "all_true_tags = []\n",
        "all_pred_tags = []\n",
        "\n",
        "# Iterieren Sie über den Testsatz\n",
        "for text, annotations in TEST_DATA:\n",
        "    doc = nlp_test(text)\n",
        "    # Konvertieren Sie die Annotationen und Vorhersagen in BILUO-Tags\n",
        "    true_tags = offsets_to_biluo_tags(doc, annotations[\"entities\"])\n",
        "    pred_tags = [f\"{ent.start_char}-{ent.end_char}-{ent.label_}\" for ent in doc.ents] # Einfache Darstellung der vorhergesagten Entitäten\n",
        "    # Konvertieren Sie die vorhergesagten Entitäten auch in BILUO-Tags, um sie besser vergleichen zu können\n",
        "    pred_tags_biluo = [\"O\"] * len(doc) # Initialisieren mit O (Outside)\n",
        "    for ent in doc.ents:\n",
        "        start_token = doc.char_span(ent.start_char, ent.end_char).start # Start-Token-Index\n",
        "        end_token = doc.char_span(ent.start_char, ent.end_char).end # End-Token-Index\n",
        "        if start_token is not None and end_token is not None:\n",
        "            if start_token == end_token - 1:\n",
        "                pred_tags_biluo[start_token] = f\"U-{ent.label_}\" # Unit-Tag\n",
        "            else:\n",
        "                pred_tags_biluo[start_token] = f\"B-{ent.label_}\" # Beginning-Tag\n",
        "                for i in range(start_token + 1, end_token - 1):\n",
        "                    pred_tags_biluo[i] = f\"I-{ent.label_}\" # Inside-Tag\n",
        "                pred_tags_biluo[end_token - 1] = f\"L-{ent.label_}\" # Last-Tag\n",
        "\n",
        "\n",
        "    all_true_tags.extend(true_tags)\n",
        "    all_pred_tags.extend(pred_tags_biluo)\n",
        "\n",
        "# Berechnen Sie die Metriken (Beispiel mit scikit-learn)\n",
        "from sklearn.metrics import classification_report\n",
        "\n",
        "# Filtert Tags heraus, die nicht in beiden Listen vorhanden sind, um Fehler zu vermeiden\n",
        "# (Dies kann bei komplexen NER-Aufgaben notwendig sein)\n",
        "# unique_tags = sorted(list(set(all_true_tags + all_pred_tags)))\n",
        "# print(classification_report(all_true_tags, all_pred_tags, labels=unique_tags))\n",
        "\n",
        "# Einfachere Berechnung, die nur die vorhandenen Tags berücksichtigt\n",
        "print(classification_report(all_true_tags, all_pred_tags))"
      ],
      "metadata": {
        "id": "WG-JV2FaKx7G",
        "outputId": "970dd3a1-137c-44a1-8391-c2c6b4e1bc67",
        "colab": {
          "base_uri": "https://localhost:8080/"
        }
      },
      "execution_count": 37,
      "outputs": [
        {
          "output_type": "stream",
          "name": "stdout",
          "text": [
            "              precision    recall  f1-score   support\n",
            "\n",
            "           -       0.00      0.00      0.00         3\n",
            "    B-PERSON       0.50      1.00      0.67         1\n",
            "    L-PERSON       0.50      1.00      0.67         1\n",
            "           O       0.86      1.00      0.92         6\n",
            "U-OCCUPATION       0.00      0.00      0.00         1\n",
            "\n",
            "    accuracy                           0.67        12\n",
            "   macro avg       0.37      0.60      0.45        12\n",
            "weighted avg       0.51      0.67      0.57        12\n",
            "\n"
          ]
        },
        {
          "output_type": "stream",
          "name": "stderr",
          "text": [
            "/usr/local/lib/python3.11/dist-packages/spacy/training/iob_utils.py:149: UserWarning: [W030] Some entities could not be aligned in the text \"Fabius Maximus faber hic laboravit.\" with entities \"[(0, 13, 'PERSON'), (14, 19, 'OCCUPATION')]\". Use `spacy.training.offsets_to_biluo_tags(nlp.make_doc(text), entities)` to check the alignment. Misaligned entities ('-') will be ignored during training.\n",
            "  warnings.warn(\n",
            "/usr/local/lib/python3.11/dist-packages/sklearn/metrics/_classification.py:1565: UndefinedMetricWarning: Precision is ill-defined and being set to 0.0 in labels with no predicted samples. Use `zero_division` parameter to control this behavior.\n",
            "  _warn_prf(average, modifier, f\"{metric.capitalize()} is\", len(result))\n",
            "/usr/local/lib/python3.11/dist-packages/sklearn/metrics/_classification.py:1565: UndefinedMetricWarning: Precision is ill-defined and being set to 0.0 in labels with no predicted samples. Use `zero_division` parameter to control this behavior.\n",
            "  _warn_prf(average, modifier, f\"{metric.capitalize()} is\", len(result))\n",
            "/usr/local/lib/python3.11/dist-packages/sklearn/metrics/_classification.py:1565: UndefinedMetricWarning: Precision is ill-defined and being set to 0.0 in labels with no predicted samples. Use `zero_division` parameter to control this behavior.\n",
            "  _warn_prf(average, modifier, f\"{metric.capitalize()} is\", len(result))\n"
          ]
        }
      ]
    }
  ],
  "metadata": {
    "colab": {
      "provenance": [],
      "include_colab_link": true
    },
    "kernelspec": {
      "display_name": "Python 3 (ipykernel)",
      "language": "python",
      "name": "python3"
    },
    "language_info": {
      "name": "python"
    }
  },
  "nbformat": 4,
  "nbformat_minor": 0
}